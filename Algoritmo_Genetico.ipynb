{
  "nbformat": 4,
  "nbformat_minor": 0,
  "metadata": {
    "kernelspec": {
      "display_name": "Python 3",
      "language": "python",
      "name": "python3"
    },
    "language_info": {
      "codemirror_mode": {
        "name": "ipython",
        "version": 3
      },
      "file_extension": ".py",
      "mimetype": "text/x-python",
      "name": "python",
      "nbconvert_exporter": "python",
      "pygments_lexer": "ipython3",
      "version": "3.6.3"
    },
    "colab": {
      "name": "Algoritmo_Genetico.ipynb",
      "provenance": [],
      "collapsed_sections": []
    }
  },
  "cells": [
    {
      "cell_type": "markdown",
      "metadata": {
        "id": "0g_H9vjcBRkH",
        "colab_type": "text"
      },
      "source": [
        "# Aula 1 - Modelos de IA & ML\n",
        "\n",
        "## Exercício de fixação - Algoritmo Genético para construção de frase alvo"
      ]
    },
    {
      "cell_type": "markdown",
      "metadata": {
        "id": "cDOLZx24AydH",
        "colab_type": "text"
      },
      "source": [
        "Começamos com um conjunto genérico de letras como nosso set de genes e uma \"alvo\" de destino, no caso uma frase:\n",
        "\n",
        "Poderiam ser também caracteres dentre outros tipos de dados, como no exemplo em J.A.B Lopes Filho, 2014: \n",
        "\n",
        "https://www.researchgate.net/publication/334279473_Aplicacao_de_Algoritmo_Genetico_para_Reconhecimento_de_Padroes_Roletas_de_Las_Vegas_e_Atlantic_City_a_Computacao_Natural)"
      ]
    },
    {
      "cell_type": "code",
      "metadata": {
        "id": "5CXLyy82AydI",
        "colab_type": "code",
        "colab": {}
      },
      "source": [
        "geneSet = \" abcdefghijklmnopqrstuvwxyzABCDEFGHIJKLMNOPQRSTUVWXYZ!.\"\n",
        "target = \"hello world!\""
      ],
      "execution_count": 0,
      "outputs": []
    },
    {
      "cell_type": "markdown",
      "metadata": {
        "id": "8LLSm_6dAydL",
        "colab_type": "text"
      },
      "source": [
        "## Generando um \"palpite\"\n",
        "\n",
        "Em seguida, precisamos de uma maneira de gerar uma seqüência aleatória de letras a partir do conjunto de genes:"
      ]
    },
    {
      "cell_type": "code",
      "metadata": {
        "id": "r3fxv_hRAydL",
        "colab_type": "code",
        "colab": {}
      },
      "source": [
        "import random\n",
        "\n",
        "def generate_parent(length):\n",
        "    genes = []\n",
        "    while len(genes) < length:\n",
        "        sampleSize = min(length - len(genes), len(geneSet))\n",
        "        genes.extend(random.sample(geneSet, sampleSize))\n",
        "    return ''.join(genes)"
      ],
      "execution_count": 0,
      "outputs": []
    },
    {
      "cell_type": "markdown",
      "metadata": {
        "id": "ToPiT63aAydN",
        "colab_type": "text"
      },
      "source": [
        "Nosso random.sample trabalha com valores sampleSize da entrada sem substituição. \n",
        "\n",
        "Isso significa que não haverão duplicatas no pai gerado, a menos que o geneSet contenha duplicatas ou o tamanho seja maior que len (geneSet). A implementação acima nos permite gerar uma longa string com um pequeno conjunto de genes, usando o maior número possível de genes únicos."
      ]
    },
    {
      "cell_type": "markdown",
      "metadata": {
        "id": "LUiApuHBAydO",
        "colab_type": "text"
      },
      "source": [
        "## Fitness (Adequação ou Adaptação)\n",
        "\n",
        "O valor de adequação ou adaptação que o algoritmo genético fornece é o único feedback (resposta) que o mecanismo obtém para guiá-lo em direção a uma solução ótima. Nesse problema, nosso valor de adequação é o número total de letras no palpite que correspondem à letra na mesma posição da senha."
      ]
    },
    {
      "cell_type": "code",
      "metadata": {
        "id": "kUkICUSIAydP",
        "colab_type": "code",
        "colab": {}
      },
      "source": [
        "def get_fitness(guess):\n",
        "    return sum(1 for expected, actual in zip(target, guess)\n",
        "               if expected == actual)"
      ],
      "execution_count": 0,
      "outputs": []
    },
    {
      "cell_type": "markdown",
      "metadata": {
        "id": "JL5-rEyZAydR",
        "colab_type": "text"
      },
      "source": [
        "## Mutação\n",
        "\n",
        "Também precisamos de uma maneira de produzir um novo palpite, ao alterar o atual. A implementação a seguir converte a string pai em uma matriz com list (parent), em seguida, substitui uma letra na matriz selecionada, de maneira aleatória, de geneSet e, em seguida, recombina o resultado em uma string com '' .join (genes)."
      ]
    },
    {
      "cell_type": "code",
      "metadata": {
        "id": "bivU8kmPAydR",
        "colab_type": "code",
        "colab": {}
      },
      "source": [
        "def mutate(parent):\n",
        "    index = random.randrange(0, len(parent))\n",
        "    childGenes = list(parent)\n",
        "    newGene, alternate = random.sample(geneSet, 2)\n",
        "    childGenes[index] = alternate \\\n",
        "        if newGene == childGenes[index] \\\n",
        "        else newGene\n",
        "    return ''.join(childGenes)"
      ],
      "execution_count": 0,
      "outputs": []
    },
    {
      "cell_type": "markdown",
      "metadata": {
        "id": "vKvEYmI9AydT",
        "colab_type": "text"
      },
      "source": [
        "Essa implementação usa uma substituição alternativa se o newGene selecionado aleatoriamente for o mesmo que o que deve substituir, o que pode economizar uma quantidade significativa de sobrecarga."
      ]
    },
    {
      "cell_type": "markdown",
      "metadata": {
        "id": "Xsca0WRpAydU",
        "colab_type": "text"
      },
      "source": [
        "## Display\n",
        "\n",
        "Em seguida, é importante monitorar o que está acontecendo, para que possamos parar o mecanismo caso necessário. Também nos permite aprender o que funciona e o que não funciona para que possamos melhorar o algoritmo.\n",
        "\n",
        "Vamos exibir uma representação visual da sequência do gene, que pode não ser a seqüência do gene literal, seu valor de adequação e quanto tempo se passou."
      ]
    },
    {
      "cell_type": "code",
      "metadata": {
        "id": "LvJOjaToAydV",
        "colab_type": "code",
        "colab": {}
      },
      "source": [
        "import datetime\n",
        "\n",
        "def display(guess):\n",
        "    timeDiff = datetime.datetime.now() - startTime\n",
        "    fitness = get_fitness(guess)\n",
        "    print(\"{0}\\t{1}\\t{2}\".format(guess, fitness, str(timeDiff)))"
      ],
      "execution_count": 0,
      "outputs": []
    },
    {
      "cell_type": "markdown",
      "metadata": {
        "id": "HqHkMjKYAydX",
        "colab_type": "text"
      },
      "source": [
        "## Main\n",
        "\n",
        "Agora estamos prontos para escrever o programa principal. Começamos inicializando o bestParent com uma sequência aleatória de letras:"
      ]
    },
    {
      "cell_type": "code",
      "metadata": {
        "id": "X_Cz81sWAydX",
        "colab_type": "code",
        "outputId": "a245e55e-b7bb-4d64-cafc-4876ee89cf0e",
        "colab": {
          "base_uri": "https://localhost:8080/",
          "height": 34
        }
      },
      "source": [
        "random.seed()\n",
        "startTime = datetime.datetime.now()\n",
        "bestParent = generate_parent(len(target))\n",
        "bestFitness = get_fitness(bestParent)\n",
        "display(bestParent)"
      ],
      "execution_count": 6,
      "outputs": [
        {
          "output_type": "stream",
          "text": [
            "vz!xtnbpL ST\t0\t0:00:00.000887\n"
          ],
          "name": "stdout"
        }
      ]
    },
    {
      "cell_type": "markdown",
      "metadata": {
        "id": "rtsgq953Aydb",
        "colab_type": "text"
      },
      "source": [
        "Só então nós adicionamos o coração de nosso \"motor genético\". Basicamente é um loop que gera um palpite, solicita a adequação (fitness) para esse palpite, compara-o ao do palpite anterior e mantém o melhor dos dois. Este ciclo se repete até que todas as letras coincidam com as do alvo."
      ]
    },
    {
      "cell_type": "code",
      "metadata": {
        "id": "dF-zE_8lAydc",
        "colab_type": "code",
        "outputId": "5059b55e-09e5-4ff6-a6a5-259f62410342",
        "colab": {
          "base_uri": "https://localhost:8080/",
          "height": 238
        }
      },
      "source": [
        "i = 0\n",
        "while True:\n",
        "    i=i+1\n",
        "    child = mutate(bestParent)\n",
        "    childFitness = get_fitness(child)\n",
        "\n",
        "    if bestFitness >= childFitness:\n",
        "        continue\n",
        "    display(child)\n",
        "    if childFitness >= len(bestParent):\n",
        "        break\n",
        "    bestFitness = childFitness\n",
        "    bestParent = child\n",
        "print(i)"
      ],
      "execution_count": 7,
      "outputs": [
        {
          "output_type": "stream",
          "text": [
            "vz!xtnwpL ST\t1\t0:00:00.020348\n",
            "vz!xt wpL ST\t2\t0:00:00.020970\n",
            "vz!xt wpLlST\t3\t0:00:00.021435\n",
            "ve!xt wpLlST\t4\t0:00:00.021825\n",
            "ve!xt woLlST\t5\t0:00:00.021974\n",
            "ve!xt worlST\t6\t0:00:00.022191\n",
            "ve!xt worlS!\t7\t0:00:00.023808\n",
            "ve!lt worlS!\t8\t0:00:00.024398\n",
            "vellt worlS!\t9\t0:00:00.026991\n",
            "vellt world!\t10\t0:00:00.031217\n",
            "vello world!\t11\t0:00:00.034944\n",
            "hello world!\t12\t0:00:00.039906\n",
            "2188\n"
          ],
          "name": "stdout"
        }
      ]
    },
    {
      "cell_type": "markdown",
      "metadata": {
        "collapsed": true,
        "id": "tDLLQkzUAyde",
        "colab_type": "text"
      },
      "source": [
        "Sucesso! \n",
        "\n",
        "Parabéns, você acaba de construir seu primeiro Algoritmo Genético em Python!"
      ]
    },
    {
      "cell_type": "code",
      "metadata": {
        "id": "QmuRNb5QAydf",
        "colab_type": "code",
        "colab": {}
      },
      "source": [
        ""
      ],
      "execution_count": 0,
      "outputs": []
    }
  ]
}